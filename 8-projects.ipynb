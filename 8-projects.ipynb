{
 "cells": [
  {
   "cell_type": "markdown",
   "metadata": {},
   "source": [
    "# Projects Part II"
   ]
  },
  {
   "cell_type": "markdown",
   "metadata": {},
   "source": [
    "1. What is the core question that I am trying to answer?\n",
    "\n",
    "2. Why do I find this question interesting?  What other similar/analogous questions am I interested in?\n",
    "\n",
    "3. How am I answering this question?\n",
    "\n",
    "4. What are some of the issues with this approach?\n",
    "    * Data I am considering/not considering\n",
    "    * Issues with data working with\n"
   ]
  },
  {
   "cell_type": "markdown",
   "metadata": {},
   "source": [
    "5. If I had to make a hypothesis about my question now, what is it?\n",
    "    * What are some of the open questions that could lead to this hypothesis being incorrect?"
   ]
  },
  {
   "cell_type": "markdown",
   "metadata": {},
   "source": [
    "6. What are general next steps that I believe I can complete, and what are some stretch goals for the project."
   ]
  }
 ],
 "metadata": {
  "kernelspec": {
   "display_name": "Python 3",
   "language": "python",
   "name": "python3"
  },
  "language_info": {
   "codemirror_mode": {
    "name": "ipython",
    "version": 3
   },
   "file_extension": ".py",
   "mimetype": "text/x-python",
   "name": "python",
   "nbconvert_exporter": "python",
   "pygments_lexer": "ipython3",
   "version": "3.7.4"
  }
 },
 "nbformat": 4,
 "nbformat_minor": 4
}
