{
 "cells": [
  {
   "cell_type": "markdown",
   "metadata": {},
   "source": [
    "# Decision Trees"
   ]
  },
  {
   "cell_type": "markdown",
   "metadata": {},
   "source": [
    "## Introduction"
   ]
  },
  {
   "cell_type": "markdown",
   "metadata": {},
   "source": [
    "Imagine that we have the following customer data."
   ]
  },
  {
   "cell_type": "code",
   "execution_count": 84,
   "metadata": {},
   "outputs": [],
   "source": [
    "import pandas as pd\n",
    "df = pd.read_csv('./customer_data.csv').iloc[:, 1:]"
   ]
  },
  {
   "cell_type": "code",
   "execution_count": 85,
   "metadata": {},
   "outputs": [],
   "source": [
    "import numpy as np\n",
    "updated_df = df.drop(columns = ['customer'])\n",
    "updated_df.loc[:, 'customer'] = df.customer\n",
    "updated_df['customer_predictions'] = '?'"
   ]
  },
  {
   "cell_type": "code",
   "execution_count": 86,
   "metadata": {},
   "outputs": [
    {
     "data": {
      "text/html": [
       "<div>\n",
       "<style scoped>\n",
       "    .dataframe tbody tr th:only-of-type {\n",
       "        vertical-align: middle;\n",
       "    }\n",
       "\n",
       "    .dataframe tbody tr th {\n",
       "        vertical-align: top;\n",
       "    }\n",
       "\n",
       "    .dataframe thead th {\n",
       "        text-align: right;\n",
       "    }\n",
       "</style>\n",
       "<table border=\"1\" class=\"dataframe\">\n",
       "  <thead>\n",
       "    <tr style=\"text-align: right;\">\n",
       "      <th></th>\n",
       "      <th>attended_college</th>\n",
       "      <th>under_thirty</th>\n",
       "      <th>borough</th>\n",
       "      <th>income</th>\n",
       "      <th>customer</th>\n",
       "      <th>customer_predictions</th>\n",
       "    </tr>\n",
       "  </thead>\n",
       "  <tbody>\n",
       "    <tr>\n",
       "      <th>0</th>\n",
       "      <td>?</td>\n",
       "      <td>Yes</td>\n",
       "      <td>Manhattan</td>\n",
       "      <td>&lt; 55</td>\n",
       "      <td>0</td>\n",
       "      <td>?</td>\n",
       "    </tr>\n",
       "    <tr>\n",
       "      <th>1</th>\n",
       "      <td>Yes</td>\n",
       "      <td>Yes</td>\n",
       "      <td>Brooklyn</td>\n",
       "      <td>&lt; 55</td>\n",
       "      <td>0</td>\n",
       "      <td>?</td>\n",
       "    </tr>\n",
       "    <tr>\n",
       "      <th>2</th>\n",
       "      <td>?</td>\n",
       "      <td>No</td>\n",
       "      <td>Brooklyn</td>\n",
       "      <td>&lt; 55</td>\n",
       "      <td>1</td>\n",
       "      <td>?</td>\n",
       "    </tr>\n",
       "    <tr>\n",
       "      <th>3</th>\n",
       "      <td>No</td>\n",
       "      <td>No</td>\n",
       "      <td>Queens</td>\n",
       "      <td>&gt; 100</td>\n",
       "      <td>1</td>\n",
       "      <td>?</td>\n",
       "    </tr>\n",
       "    <tr>\n",
       "      <th>4</th>\n",
       "      <td>?</td>\n",
       "      <td>No</td>\n",
       "      <td>Queens</td>\n",
       "      <td>55 - 100</td>\n",
       "      <td>1</td>\n",
       "      <td>?</td>\n",
       "    </tr>\n",
       "    <tr>\n",
       "      <th>5</th>\n",
       "      <td>Yes</td>\n",
       "      <td>No</td>\n",
       "      <td>Manhattan</td>\n",
       "      <td>&gt; 100</td>\n",
       "      <td>0</td>\n",
       "      <td>?</td>\n",
       "    </tr>\n",
       "    <tr>\n",
       "      <th>6</th>\n",
       "      <td>Yes</td>\n",
       "      <td>No</td>\n",
       "      <td>Queens</td>\n",
       "      <td>&gt; 100</td>\n",
       "      <td>0</td>\n",
       "      <td>?</td>\n",
       "    </tr>\n",
       "    <tr>\n",
       "      <th>7</th>\n",
       "      <td>?</td>\n",
       "      <td>Yes</td>\n",
       "      <td>Brooklyn</td>\n",
       "      <td>55 - 100</td>\n",
       "      <td>0</td>\n",
       "      <td>?</td>\n",
       "    </tr>\n",
       "  </tbody>\n",
       "</table>\n",
       "</div>"
      ],
      "text/plain": [
       "  attended_college under_thirty    borough    income  customer  \\\n",
       "0                ?          Yes  Manhattan      < 55         0   \n",
       "1              Yes          Yes   Brooklyn      < 55         0   \n",
       "2                ?           No   Brooklyn      < 55         1   \n",
       "3               No           No     Queens     > 100         1   \n",
       "4                ?           No     Queens  55 - 100         1   \n",
       "5              Yes           No  Manhattan     > 100         0   \n",
       "6              Yes           No     Queens     > 100         0   \n",
       "7                ?          Yes   Brooklyn  55 - 100         0   \n",
       "\n",
       "  customer_predictions  \n",
       "0                    ?  \n",
       "1                    ?  \n",
       "2                    ?  \n",
       "3                    ?  \n",
       "4                    ?  \n",
       "5                    ?  \n",
       "6                    ?  \n",
       "7                    ?  "
      ]
     },
     "execution_count": 86,
     "metadata": {},
     "output_type": "execute_result"
    }
   ],
   "source": [
    "updated_df = updated_df.rename(columns={'graduate education': 'attended_college'})\n",
    "updated_df"
   ]
  },
  {
   "cell_type": "markdown",
   "metadata": {},
   "source": [
    "Our vector of target variables is the `customer` column, with a 1 or a 0 representing whether or not a customer lead became a customer (1 represents that they did).  The rest of our columns are our feature vectors."
   ]
  },
  {
   "cell_type": "markdown",
   "metadata": {},
   "source": [
    "Now, to use the above data to predict whether someone will be come a customer, we decide to use a series of tests.  These are the tests that we can use:\n",
    "\n",
    "* Does the lead have a graduate level of education?\n",
    "* Is the lead under thirty?\n",
    "* Is the lead from Manhattan?  Or from Brooklyn?\n",
    "* Is the lead's income under 55k, over 100k, or between 55k and 100k?"
   ]
  },
  {
   "cell_type": "markdown",
   "metadata": {},
   "source": [
    "The reason why we use these tests is to discover if the responses can help us predict whether or not someone will become a customer.  "
   ]
  },
  {
   "cell_type": "markdown",
   "metadata": {},
   "source": [
    "### The quality of a test"
   ]
  },
  {
   "cell_type": "markdown",
   "metadata": {},
   "source": [
    "Now, we can imagine that we have at least one test to ask of each feature in our dataset, so the next question is, how do we prioritize these tests.\n",
    "\n",
    "A good test is one that divides our dataset between those who become customers and those who do not.  Think about it, if we ask if a customer earns less than 55k, and then we find the same proportion of customers and non-customers as we started with, this test didn't help us target customers."
   ]
  },
  {
   "cell_type": "code",
   "execution_count": 87,
   "metadata": {},
   "outputs": [
    {
     "data": {
      "text/plain": [
       "0    0\n",
       "1    0\n",
       "2    1\n",
       "Name: customer, dtype: int64"
      ]
     },
     "execution_count": 87,
     "metadata": {},
     "output_type": "execute_result"
    }
   ],
   "source": [
    "df[df['income'] == '< 55']['customer']"
   ]
  },
  {
   "cell_type": "code",
   "execution_count": 29,
   "metadata": {},
   "outputs": [
    {
     "data": {
      "text/plain": [
       "3    1\n",
       "5    0\n",
       "6    0\n",
       "Name: customer, dtype: int64"
      ]
     },
     "execution_count": 29,
     "metadata": {},
     "output_type": "execute_result"
    }
   ],
   "source": [
    "df[df['income'] == '> 100']['customer']"
   ]
  },
  {
   "cell_type": "code",
   "execution_count": 30,
   "metadata": {},
   "outputs": [
    {
     "data": {
      "text/plain": [
       "4    1\n",
       "7    0\n",
       "Name: customer, dtype: int64"
      ]
     },
     "execution_count": 30,
     "metadata": {},
     "output_type": "execute_result"
    }
   ],
   "source": [
    "df[df['income'] == '55 - 100']['customer']"
   ]
  },
  {
   "cell_type": "markdown",
   "metadata": {},
   "source": [
    "We'll score our test, by counting the number of members split into a subgroup where member of the subset is of the same type (that is all are either a customer, or all or either not.).  So our income test scored a zero."
   ]
  },
  {
   "cell_type": "markdown",
   "metadata": {},
   "source": [
    "### Going through all of the tests"
   ]
  },
  {
   "cell_type": "code",
   "execution_count": 45,
   "metadata": {},
   "outputs": [],
   "source": [
    "def split_data_by(df, column_name, target):\n",
    "    selected_dfs = []\n",
    "    for value in df[column_name].unique():\n",
    "        selected = df[df[column_name] == value]\n",
    "        selected = selected[[column_name, target]]\n",
    "        selected_dfs.append(selected)\n",
    "    return selected_dfs"
   ]
  },
  {
   "cell_type": "markdown",
   "metadata": {},
   "source": [
    "* graduate education"
   ]
  },
  {
   "cell_type": "code",
   "execution_count": 46,
   "metadata": {},
   "outputs": [
    {
     "data": {
      "text/plain": [
       "[  graduate education  customer\n",
       " 0                  ?         0\n",
       " 2                  ?         1\n",
       " 4                  ?         1\n",
       " 7                  ?         0,   graduate education  customer\n",
       " 1                Yes         0\n",
       " 5                Yes         0\n",
       " 6                Yes         0,   graduate education  customer\n",
       " 3                 No         1]"
      ]
     },
     "execution_count": 46,
     "metadata": {},
     "output_type": "execute_result"
    }
   ],
   "source": [
    "split_data_by(df, 'graduate education', 'customer')"
   ]
  },
  {
   "cell_type": "markdown",
   "metadata": {},
   "source": [
    "Score of 4."
   ]
  },
  {
   "cell_type": "markdown",
   "metadata": {},
   "source": [
    "* under thirty"
   ]
  },
  {
   "cell_type": "code",
   "execution_count": 47,
   "metadata": {},
   "outputs": [
    {
     "data": {
      "text/plain": [
       "[  under_thirty  customer\n",
       " 0          Yes         0\n",
       " 1          Yes         0\n",
       " 7          Yes         0,   under_thirty  customer\n",
       " 2           No         1\n",
       " 3           No         1\n",
       " 4           No         1\n",
       " 5           No         0\n",
       " 6           No         0]"
      ]
     },
     "execution_count": 47,
     "metadata": {},
     "output_type": "execute_result"
    }
   ],
   "source": [
    "split_data_by(df, 'under_thirty', 'customer')"
   ]
  },
  {
   "cell_type": "markdown",
   "metadata": {},
   "source": [
    "This scores a three."
   ]
  },
  {
   "cell_type": "code",
   "execution_count": 48,
   "metadata": {},
   "outputs": [
    {
     "data": {
      "text/plain": [
       "[     borough  customer\n",
       " 0  Manhattan         0\n",
       " 5  Manhattan         0,     borough  customer\n",
       " 1  Brooklyn         0\n",
       " 2  Brooklyn         1\n",
       " 7  Brooklyn         0,   borough  customer\n",
       " 3  Queens         1\n",
       " 4  Queens         1\n",
       " 6  Queens         0]"
      ]
     },
     "execution_count": 48,
     "metadata": {},
     "output_type": "execute_result"
    }
   ],
   "source": [
    "split_data_by(df, 'borough', 'customer')"
   ]
  },
  {
   "cell_type": "markdown",
   "metadata": {},
   "source": [
    "This scores a 2."
   ]
  },
  {
   "cell_type": "markdown",
   "metadata": {},
   "source": [
    "So our final results are:"
   ]
  },
  {
   "cell_type": "markdown",
   "metadata": {},
   "source": [
    "| education   |      under 30      |  borough |income |\n",
    "|----------|:-------------:|------:|------:|\n",
    "| 4 |  3 | 2 |0 |\n"
   ]
  },
  {
   "cell_type": "markdown",
   "metadata": {},
   "source": [
    "The highest scoring test we have is with education, so that is the test that we being with."
   ]
  },
  {
   "cell_type": "code",
   "execution_count": 74,
   "metadata": {},
   "outputs": [
    {
     "data": {
      "text/plain": [
       "[  attended_college  customer\n",
       " 0                ?         0\n",
       " 2                ?         1\n",
       " 4                ?         1\n",
       " 7                ?         0,   attended_college  customer\n",
       " 1              Yes         0\n",
       " 5              Yes         0\n",
       " 6              Yes         0,   attended_college  customer\n",
       " 3               No         1]"
      ]
     },
     "execution_count": 74,
     "metadata": {},
     "output_type": "execute_result"
    }
   ],
   "source": [
    "split_data_by(updated_df, 'attended_college', 'customer')"
   ]
  },
  {
   "cell_type": "code",
   "execution_count": 93,
   "metadata": {},
   "outputs": [
    {
     "data": {
      "text/plain": [
       "1    ?\n",
       "5    ?\n",
       "6    ?\n",
       "Name: customer_predictions, dtype: object"
      ]
     },
     "execution_count": 93,
     "metadata": {},
     "output_type": "execute_result"
    }
   ],
   "source": [
    "updated_df[updated_df['attended_college'] == 'Yes']['customer_predictions']"
   ]
  },
  {
   "cell_type": "markdown",
   "metadata": {},
   "source": [
    "### Our criteria"
   ]
  },
  {
   "cell_type": "code",
   "execution_count": null,
   "metadata": {},
   "outputs": [],
   "source": [
    "updated_df[:, 'customer_predictions'] = "
   ]
  },
  {
   "cell_type": "markdown",
   "metadata": {},
   "source": []
  },
  {
   "cell_type": "markdown",
   "metadata": {},
   "source": []
  }
 ],
 "metadata": {
  "kernelspec": {
   "display_name": "Python 3",
   "language": "python",
   "name": "python3"
  },
  "language_info": {
   "codemirror_mode": {
    "name": "ipython",
    "version": 3
   },
   "file_extension": ".py",
   "mimetype": "text/x-python",
   "name": "python",
   "nbconvert_exporter": "python",
   "pygments_lexer": "ipython3",
   "version": "3.7.3"
  }
 },
 "nbformat": 4,
 "nbformat_minor": 2
}
